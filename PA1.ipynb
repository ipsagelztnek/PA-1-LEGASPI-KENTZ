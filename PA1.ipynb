{
 "cells": [
  {
   "cell_type": "code",
   "execution_count": 3,
   "id": "adb0a18d-7317-47e7-8723-3bebc39baf14",
   "metadata": {},
   "outputs": [],
   "source": [
    "def alphabet_soup(word):\n",
    "    return ''.join(sorted(word))\n",
    "\n"
   ]
  },
  {
   "cell_type": "code",
   "execution_count": 5,
   "id": "0728a9f7-6819-4778-88b0-b91d93ad1b85",
   "metadata": {},
   "outputs": [
    {
     "name": "stdout",
     "output_type": "stream",
     "text": [
      "ehllo\n"
     ]
    }
   ],
   "source": [
    "print(alphabet_soup(\"hello\")) "
   ]
  },
  {
   "cell_type": "code",
   "execution_count": 7,
   "id": "b130f2a6-ddf2-4472-a3a6-8a82d9825c96",
   "metadata": {},
   "outputs": [
    {
     "name": "stdout",
     "output_type": "stream",
     "text": [
      "acehkr\n"
     ]
    }
   ],
   "source": [
    "print(alphabet_soup(\"hacker\"))"
   ]
  },
  {
   "cell_type": "code",
   "execution_count": 8,
   "id": "b01b2430-475f-4bb3-9f13-8a2704420274",
   "metadata": {},
   "outputs": [
    {
     "name": "stdout",
     "output_type": "stream",
     "text": [
      "aefy\n"
     ]
    }
   ],
   "source": [
    "print(alphabet_soup(\"faye\"))"
   ]
  },
  {
   "cell_type": "raw",
   "id": "30bf5861-e05e-4dc6-b74c-0f58ba647fa8",
   "metadata": {},
   "source": [
    "EMOTICON PROBLEM"
   ]
  },
  {
   "cell_type": "code",
   "execution_count": 9,
   "id": "aca5a3f2-162d-4dc2-bc1c-569b7148af16",
   "metadata": {},
   "outputs": [],
   "source": [
    "def emotify(sentence):\n",
    "    emoticons = {\n",
    "        \"smile\": \":)\",\n",
    "        \"grin\": \":D\",\n",
    "        \"sad\": \":((\",\n",
    "        \"mad\": \">:(\"\n",
    "    }\n",
    "    words = sentence.split()\n",
    "    result = []\n",
    "    \n",
    "    for word in words:\n",
    "        if word.lower() in emoticons:\n",
    "            result.append(emoticons[word.lower()])\n",
    "        else:\n",
    "            result.append(word)\n",
    "    \n",
    "    return \" \".join(result)\n"
   ]
  },
  {
   "cell_type": "code",
   "execution_count": 11,
   "id": "5aad2cfa-8781-46c2-8d15-6dd4a3d4f86b",
   "metadata": {},
   "outputs": [
    {
     "name": "stdout",
     "output_type": "stream",
     "text": [
      "Make me :)\n"
     ]
    }
   ],
   "source": [
    "print(emotify(\"Make me smile\"))"
   ]
  },
  {
   "cell_type": "code",
   "execution_count": 12,
   "id": "1c5d7f8e-60f8-4479-bc03-17f346313cd7",
   "metadata": {},
   "outputs": [
    {
     "name": "stdout",
     "output_type": "stream",
     "text": [
      "I am >:(\n"
     ]
    }
   ],
   "source": [
    "print(emotify(\"I am mad\"))"
   ]
  },
  {
   "cell_type": "raw",
   "id": "4787d5a5-3040-49a8-b714-210e5e96c1eb",
   "metadata": {},
   "source": [
    "UNPACKING LIST PROBLEM"
   ]
  },
  {
   "cell_type": "code",
   "execution_count": 13,
   "id": "70348b57-08e6-4ae6-b10e-bb5f69bf90fc",
   "metadata": {},
   "outputs": [],
   "source": [
    "def unpack_list(lst):\n",
    "    first, *middle, last = lst\n",
    "    print(\"first:\", first)\n",
    "    print(\"middle:\", middle)\n",
    "    print(\"last:\", last)\n"
   ]
  },
  {
   "cell_type": "code",
   "execution_count": 18,
   "id": "a10b8bd7-2135-41cb-896a-d3b6417cee3f",
   "metadata": {},
   "outputs": [
    {
     "name": "stdout",
     "output_type": "stream",
     "text": [
      "first: 1\n",
      "middle: [2, 3, 4, 5]\n",
      "last: 6\n"
     ]
    }
   ],
   "source": [
    "lst = [1, 2, 3, 4, 5, 6]\n",
    "unpack_list(lst)"
   ]
  },
  {
   "cell_type": "code",
   "execution_count": null,
   "id": "459f7f48-a3ee-4f22-991d-d9a74b791406",
   "metadata": {},
   "outputs": [],
   "source": []
  }
 ],
 "metadata": {
  "kernelspec": {
   "display_name": "Python 3 (ipykernel)",
   "language": "python",
   "name": "python3"
  },
  "language_info": {
   "codemirror_mode": {
    "name": "ipython",
    "version": 3
   },
   "file_extension": ".py",
   "mimetype": "text/x-python",
   "name": "python",
   "nbconvert_exporter": "python",
   "pygments_lexer": "ipython3",
   "version": "3.13.5"
  }
 },
 "nbformat": 4,
 "nbformat_minor": 5
}
